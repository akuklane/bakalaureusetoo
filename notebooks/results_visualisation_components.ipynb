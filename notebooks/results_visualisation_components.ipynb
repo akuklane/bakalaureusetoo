{
 "cells": [
  {
   "cell_type": "markdown",
   "source": [
    "# Tulemuste analüüs: komponendid."
   ],
   "metadata": {
    "collapsed": false
   }
  },
  {
   "cell_type": "code",
   "execution_count": null,
   "outputs": [],
   "source": [
    "# Impordid.\n",
    "import matplotlib.pyplot as plt\n",
    "import seaborn as sns\n",
    "\n",
    "from src.analysis import *\n",
    "from src.analysis_components import process_df_lineplot, process_df_violinplot\n",
    "from src.results_plotting import draw_violinplot, plot_components\n",
    "from src.utils.ensure_files_directories import ensure_dir, check_file"
   ],
   "metadata": {
    "collapsed": false,
    "pycharm": {
     "name": "#%%\n",
     "is_executing": false
    }
   }
  },
  {
   "cell_type": "code",
   "execution_count": null,
   "outputs": [],
   "source": [
    "# Jooniste kujunduse atribuudid. \n",
    "params = {\n",
    "    'figsize' : (28,28),\n",
    "    'fontsize' : '45',\n",
    "    'label_fontsize' : 55,\n",
    "    'label_padding' : 40,\n",
    "    'fontcolor' : 'black',\n",
    "    'linecolor' : 'orange',\n",
    "    'linewidth' : 5,\n",
    "    'ms' : 20,\n",
    "    'margins' : [0.004, 0.008],\n",
    "    'grid_color' : 'dimgrey',\n",
    "    'ticks_size' : 45\n",
    "}"
   ],
   "metadata": {
    "collapsed": false,
    "pycharm": {
     "name": "#%%\n",
     "is_executing": false
    }
   }
  },
  {
   "cell_type": "code",
   "execution_count": null,
   "outputs": [],
   "source": [
    "os.chdir('..')\n",
    "filepath = os.getcwd() + '/data/processed-results/' + 'components_processed.csv'\n",
    "components_df = pd.read_csv(filepath, sep=',')\n",
    "\n",
    "ensure_dir(os.getcwd() + '/figures/') # kindlustab, et jooniste salvestamise kaust eksisteerib"
   ],
   "metadata": {
    "collapsed": false,
    "pycharm": {
     "name": "#%%\n",
     "is_executing": false
    }
   }
  },
  {
   "cell_type": "code",
   "execution_count": null,
   "outputs": [],
   "source": [
    "# eeltöötlus (kõrvalekallete (outliers) eemaldamine, normaliseerimine)\n",
    "components_processed_df = process_df_lineplot(components_df, ['100', '200', '300', '358', '966'])"
   ],
   "metadata": {
    "collapsed": false,
    "pycharm": {
     "name": "#%%\n",
     "is_executing": false
    }
   }
  },
  {
   "cell_type": "code",
   "execution_count": null,
   "outputs": [],
   "source": [
    "params['x_label'] = 'Valimi suurus'\n",
    "params['y_label'] = 'Komponendi CS-i normaliseeritud suurus'\n",
    "\n",
    "plot_components(components_processed_df, params, figname='components.png')\n",
    "plt.show()"
   ],
   "metadata": {
    "collapsed": false,
    "pycharm": {
     "name": "#%%\n",
     "is_executing": false
    }
   }
  },
  {
   "cell_type": "code",
   "execution_count": null,
   "outputs": [],
   "source": [
    "subset = 3\n",
    "plot_components(components_processed_df, params, subset=subset, figname=f'components_{subset}.png')\n",
    "plt.show()"
   ],
   "metadata": {
    "collapsed": false,
    "pycharm": {
     "name": "#%%\n",
     "is_executing": false
    }
   }
  },
  {
   "cell_type": "code",
   "execution_count": null,
   "outputs": [],
   "source": [
    "subset = 4\n",
    "plot_components(components_processed_df, params, subset=subset, figname=f'components_{subset}.png')\n",
    "plt.show()"
   ],
   "metadata": {
    "collapsed": false,
    "pycharm": {
     "name": "#%%\n",
     "is_executing": false
    }
   }
  },
  {
   "cell_type": "code",
   "execution_count": null,
   "outputs": [],
   "source": [
    "sns.set(style='whitegrid')\n",
    "\n",
    "params['figsize'] = (14,12)\n",
    "params['fontsize'] = '22'\n",
    "params['ticks_size'] = 22\n",
    "params['label_fontsize'] = 24\n",
    "params['y_label'] = 'Komponendi CS-i suurus'"
   ],
   "metadata": {
    "collapsed": false,
    "pycharm": {
     "name": "#%%\n",
     "is_executing": false
    }
   }
  },
  {
   "cell_type": "code",
   "execution_count": null,
   "outputs": [],
   "source": [
    "components_processed_df = process_df_violinplot(components_df, ['100', '200', '300', '358', '966'], 5.0)\n",
    "\n",
    "draw_violinplot(components_processed_df, params, annotation_coords=[0.2, 50], figname='components_violin.png')\n",
    "plt.show()"
   ],
   "metadata": {
    "collapsed": false,
    "pycharm": {
     "name": "#%%\n",
     "is_executing": false
    }
   }
  },
  {
   "cell_type": "code",
   "execution_count": null,
   "outputs": [],
   "source": [
    "bound = 500\n",
    "components_processed_df = process_df_violinplot(components_df, ['100', '200', '300', '358', '966'], \n",
    "                                                5.0, max_bound=bound)\n",
    "\n",
    "draw_violinplot(components_processed_df, params, annotation_coords=[0.33, 15], figname=f'components_violin_{bound}.png')\n",
    "plt.show()\n"
   ],
   "metadata": {
    "collapsed": false,
    "pycharm": {
     "name": "#%%\n",
     "is_executing": false
    }
   }
  }
 ],
 "metadata": {
  "kernelspec": {
   "display_name": "Python 3",
   "language": "python",
   "name": "python3"
  },
  "language_info": {
   "codemirror_mode": {
    "name": "ipython",
    "version": 2
   },
   "file_extension": ".py",
   "mimetype": "text/x-python",
   "name": "python",
   "nbconvert_exporter": "python",
   "pygments_lexer": "ipython2",
   "version": "2.7.6"
  },
  "pycharm": {
   "stem_cell": {
    "cell_type": "raw",
    "source": [],
    "metadata": {
     "collapsed": false
    }
   }
  }
 },
 "nbformat": 4,
 "nbformat_minor": 0
}