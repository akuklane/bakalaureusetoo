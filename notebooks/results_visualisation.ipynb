{
 "nbformat": 4,
 "nbformat_minor": 0,
 "metadata": {
  "colab": {
   "name": "Thesis_results_analysis.ipynb",
   "provenance": [],
   "collapsed_sections": [],
   "toc_visible": true
  },
  "kernelspec": {
   "name": "python3",
   "language": "python",
   "display_name": "Python 3"
  },
  "pycharm": {
   "stem_cell": {
    "cell_type": "raw",
    "source": [],
    "metadata": {
     "collapsed": false
    }
   }
  }
 },
 "cells": [
  {
   "cell_type": "markdown",
   "metadata": {
    "id": "xCbNTsSn9D-q"
   },
   "source": [
    "# Tulemuste analüüs."
   ]
  },
  {
   "cell_type": "code",
   "metadata": {
    "id": "Yl-UVrPHsCNx",
    "colab": {
     "base_uri": "https://localhost:8080/",
     "height": 422
    },
    "outputId": "cbb19bad-8337-44cd-b14b-c91efa984615",
    "pycharm": {
     "is_executing": false
    }
   },
   "source": [
    "# Impordid.\n",
    "import matplotlib.pyplot as plt\n",
    "import seaborn as sns\n",
    "\n",
    "from src.analysis import *\n",
    "from src.results_plotting import draw_barplot, draw_grouped_barplot, draw_lineplot\n",
    "from src.utils.ensure_files_directories import ensure_dir"
   ],
   "execution_count": null,
   "outputs": []
  },
  {
   "cell_type": "code",
   "metadata": {
    "id": "sqf4cpRSs5P7",
    "pycharm": {
     "is_executing": false
    }
   },
   "source": [
    "# Jooniste kujunduse atribuudid. \n",
    "params = {\n",
    "    'figsize' : (25,27),\n",
    "    'fontsize' : '45',\n",
    "    'label_fontsize' : 55,\n",
    "    'label_padding' : 40,\n",
    "    'linecolor' : 'black',\n",
    "    'linewidth' : 5,\n",
    "    'ms' : 20,\n",
    "    'margins' : [0.07, 0.07],\n",
    "    'ticks_size' : 45,\n",
    "    'annotation_offset' : 100\n",
    "}\n",
    "\n",
    "sns.set(style='whitegrid')"
   ],
   "execution_count": null,
   "outputs": []
  },
  {
   "cell_type": "code",
   "source": [
    "# Failide sisselugemine\n",
    "dfs = get_fine_mapping_results() \n",
    "\n",
    "ensure_dir(os.getcwd() + '/figures/') # kindlustab, et jooniste salvestamise kaust eksisteerib"
   ],
   "metadata": {
    "collapsed": false,
    "pycharm": {
     "name": "#%% \n",
     "is_executing": false
    }
   },
   "execution_count": null,
   "outputs": []
  },
  {
   "cell_type": "markdown",
   "metadata": {
    "id": "T-PC3m7DO0Ud"
   },
   "source": [
    "## Mitu usaldusväärsete variantide hulka leiti erinevate valimisuuruste juures?"
   ]
  },
  {
   "cell_type": "code",
   "metadata": {
    "colab": {
     "base_uri": "https://localhost:8080/",
     "height": 724
    },
    "id": "mdZq8henPf0C",
    "outputId": "19265f77-c713-4f3f-aaca-81838e310fba",
    "pycharm": {
     "is_executing": false
    }
   },
   "source": [
    "df_sizes = list(dfs.keys())\n",
    "cs_sizes = get_number_of_cs(dfs)\n",
    "params['x_label'] = 'Valimi suurus'\n",
    "params['y_label'] = 'CS-ide arv'\n",
    "\n",
    "draw_barplot(params, df_sizes, cs_sizes, 'cs_count.png')\n",
    "plt.show()"
   ],
   "execution_count": null,
   "outputs": []
  },
  {
   "cell_type": "markdown",
   "metadata": {
    "id": "J6bS_QwROydN"
   },
   "source": [
    "## Mitmele geenile leidus rohkem kui üks usaldusväärsete variantide hulk?"
   ]
  },
  {
   "cell_type": "code",
   "metadata": {
    "colab": {
     "base_uri": "https://localhost:8080/",
     "height": 728
    },
    "id": "MbH2C25Mi0ZL",
    "outputId": "f580d3af-e1a0-45fd-b9c8-de15ebdcdffa",
    "pycharm": {
     "is_executing": false
    }
   },
   "source": [
    "n_genes = get_number_of_genes_with_n_cs(dfs, 2)\n",
    "params['y_label'] = '2 või rohkema CS-idega geenide arv'\n",
    "params['annotation_offset'] = 50\n",
    "\n",
    "draw_barplot(params, df_sizes, n_genes, 'gene_count_multiple_cs.png')\n",
    "plt.show()"
   ],
   "execution_count": null,
   "outputs": []
  },
  {
   "cell_type": "markdown",
   "metadata": {
    "id": "GX6DvTFBOvy7"
   },
   "source": [
    "## Kuidas muutub usaldusväärsete variantide hulga suurus erinevate valimisuuruste juures?"
   ]
  },
  {
   "cell_type": "code",
   "metadata": {
    "colab": {
     "base_uri": "https://localhost:8080/",
     "height": 728
    },
    "id": "buIoijQejs_E",
    "outputId": "911d8691-6657-4aff-bddf-5201ff922695",
    "pycharm": {
     "is_executing": false
    }
   },
   "source": [
    "cs_sizes = list(dfs.keys())\n",
    "cs_med_sizes = get_average_size_of_cs(dfs)\n",
    "params['y_label'] = 'CS-ide mediaan'\n",
    "params['ms'] = 450\n",
    "\n",
    "fig, ax = draw_lineplot(params, x=cs_sizes, y=cs_med_sizes, annotation_coords=[0.3, 0.1], figname='cs_median.png')\n",
    "\n",
    "plt.show()"
   ],
   "execution_count": null,
   "outputs": []
  },
  {
   "cell_type": "markdown",
   "metadata": {
    "id": "qAqWaQfYO3Fs"
   },
   "source": [
    "## Kui palju on sellised hulkasid, mille suurus on 1, 2-5, 5-15, ... ?"
   ]
  },
  {
   "cell_type": "code",
   "metadata": {
    "colab": {
     "base_uri": "https://localhost:8080/",
     "height": 728
    },
    "id": "ZNCJCnh_tMwe",
    "outputId": "93714632-9b2d-4a8c-cecd-c9814ad282e4",
    "pycharm": {
     "is_executing": false,
     "name": "#%%\n"
    }
   },
   "source": [
    "params['x_label'] = 'CS-ide suurused'\n",
    "params['y_label'] = 'CS-ide arv'\n",
    "\n",
    "df = get_bins_of_cs_sizes(dfs)\n",
    "\n",
    "draw_grouped_barplot(params, df, 'cs_count_bins.png')\n",
    "\n",
    "plt.show()\n"
   ],
   "execution_count": null,
   "outputs": []
  }
 ]
}